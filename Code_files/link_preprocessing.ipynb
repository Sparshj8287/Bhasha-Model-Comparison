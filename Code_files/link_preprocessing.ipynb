{
 "cells": [
  {
   "cell_type": "code",
   "execution_count": 91,
   "metadata": {},
   "outputs": [],
   "source": [
    "import numpy as np \n",
    "import pandas as pd\n",
    "from urllib.parse import urlparse, urlsplit\n",
    "from collections import Counter\n"
   ]
  },
  {
   "cell_type": "code",
   "execution_count": null,
   "metadata": {},
   "outputs": [],
   "source": [
    "with open('web_scraper_text/links.txt', 'r') as f:\n",
    "    links = f.read().splitlines()\n"
   ]
  },
  {
   "cell_type": "code",
   "execution_count": 92,
   "metadata": {},
   "outputs": [
    {
     "name": "stdout",
     "output_type": "stream",
     "text": [
      "21\n"
     ]
    }
   ],
   "source": [
    "valid_urls = []\n",
    "domains=[]\n",
    "for url in links:\n",
    "    # if not url.startswith(\"javascript:\"):\n",
    "        parsed_url = urlparse(url)\n",
    "        # print(parsed_url)\n",
    "        domain = urlsplit(url).netloc\n",
    "        schema=parsed_url.scheme\n",
    "        domains.append(schema+'://'+domain)\n",
    "        # print(domains)\n",
    "        final_domains=list(set(domains))\n",
    "        \n",
    "        # print(final_domains)\n",
    "        valid_urls.append((url, domain))\n",
    "print(len(final_domains))\n",
    "# # Print the valid URLs and their domain names\n",
    "# for url, domain in valid_urls:\n",
    "#     print(f\"URL: {url}\")\n",
    "#     print(f\"Domain: {domain}\")\n",
    "#     print()\n",
    "# https://www.india.gov.in/my-government/indian-parliament"
   ]
  },
  {
   "cell_type": "code",
   "execution_count": 93,
   "metadata": {},
   "outputs": [],
   "source": [
    "india_gov = {}\n",
    "\n",
    "for url, url_domain in valid_urls:\n",
    "        if url_domain == 'www.india.gov.in':\n",
    "            india_gov.setdefault(url_domain, []).append(url)"
   ]
  },
  {
   "cell_type": "code",
   "execution_count": 94,
   "metadata": {},
   "outputs": [],
   "source": [
    "india_gov['values']=[False]*len(india_gov['www.india.gov.in'])"
   ]
  },
  {
   "cell_type": "code",
   "execution_count": 76,
   "metadata": {},
   "outputs": [],
   "source": [
    "indi_df=pd.DataFrame(india_gov)\n"
   ]
  },
  {
   "cell_type": "code",
   "execution_count": 95,
   "metadata": {},
   "outputs": [],
   "source": [
    "indi_df.to_csv('web_scraper_text/indic_gov_links.csv', index=False)"
   ]
  },
  {
   "cell_type": "code",
   "execution_count": 78,
   "metadata": {},
   "outputs": [],
   "source": [
    "data=pd.read_csv('web_scraper_text/indic_gov_links.csv')"
   ]
  },
  {
   "cell_type": "code",
   "execution_count": 79,
   "metadata": {},
   "outputs": [
    {
     "name": "stdout",
     "output_type": "stream",
     "text": [
      "87\n",
      "87\n"
     ]
    }
   ],
   "source": [
    "for i in india_gov.items():\n",
    "    print(len(i[1]))"
   ]
  },
  {
   "cell_type": "code",
   "execution_count": 99,
   "metadata": {},
   "outputs": [],
   "source": [
    "domain_dict={'domain':final_domains,\n",
    "             'values':'False'}"
   ]
  },
  {
   "cell_type": "code",
   "execution_count": 100,
   "metadata": {},
   "outputs": [],
   "source": [
    "domain_df= pd.DataFrame(domain_dict)"
   ]
  },
  {
   "cell_type": "code",
   "execution_count": 101,
   "metadata": {},
   "outputs": [],
   "source": [
    "domain_df.to_csv('/Users/ashujain/Desktop/web_scraper/Bhasha-Model-Comparison/Code_files/web_scraper_text/domain.csv', index=False)"
   ]
  },
  {
   "cell_type": "code",
   "execution_count": 83,
   "metadata": {},
   "outputs": [
    {
     "data": {
      "text/html": [
       "<div>\n",
       "<style scoped>\n",
       "    .dataframe tbody tr th:only-of-type {\n",
       "        vertical-align: middle;\n",
       "    }\n",
       "\n",
       "    .dataframe tbody tr th {\n",
       "        vertical-align: top;\n",
       "    }\n",
       "\n",
       "    .dataframe thead th {\n",
       "        text-align: right;\n",
       "    }\n",
       "</style>\n",
       "<table border=\"1\" class=\"dataframe\">\n",
       "  <thead>\n",
       "    <tr style=\"text-align: right;\">\n",
       "      <th></th>\n",
       "      <th>domain</th>\n",
       "      <th>values</th>\n",
       "    </tr>\n",
       "  </thead>\n",
       "  <tbody>\n",
       "    <tr>\n",
       "      <th>0</th>\n",
       "      <td>https://www.india.gov.in</td>\n",
       "      <td>False</td>\n",
       "    </tr>\n",
       "    <tr>\n",
       "      <th>1</th>\n",
       "      <td>https://knowindia.gov.in</td>\n",
       "      <td>False</td>\n",
       "    </tr>\n",
       "    <tr>\n",
       "      <th>2</th>\n",
       "      <td>https://www.g20.org</td>\n",
       "      <td>False</td>\n",
       "    </tr>\n",
       "    <tr>\n",
       "      <th>3</th>\n",
       "      <td>https://webcast.gov.in</td>\n",
       "      <td>False</td>\n",
       "    </tr>\n",
       "    <tr>\n",
       "      <th>4</th>\n",
       "      <td>https://pib.gov.in</td>\n",
       "      <td>False</td>\n",
       "    </tr>\n",
       "    <tr>\n",
       "      <th>5</th>\n",
       "      <td>https://www.facebook.com</td>\n",
       "      <td>False</td>\n",
       "    </tr>\n",
       "    <tr>\n",
       "      <th>6</th>\n",
       "      <td>https://indiacode.nic.in</td>\n",
       "      <td>False</td>\n",
       "    </tr>\n",
       "    <tr>\n",
       "      <th>7</th>\n",
       "      <td>https://www.mygov.in</td>\n",
       "      <td>False</td>\n",
       "    </tr>\n",
       "    <tr>\n",
       "      <th>8</th>\n",
       "      <td>https://www.meity.gov.in</td>\n",
       "      <td>False</td>\n",
       "    </tr>\n",
       "    <tr>\n",
       "      <th>9</th>\n",
       "      <td>https://ncrc.gov.in</td>\n",
       "      <td>False</td>\n",
       "    </tr>\n",
       "    <tr>\n",
       "      <th>10</th>\n",
       "      <td>https://righttorepairindia.gov.in</td>\n",
       "      <td>False</td>\n",
       "    </tr>\n",
       "    <tr>\n",
       "      <th>11</th>\n",
       "      <td>https://rti.gov.in</td>\n",
       "      <td>False</td>\n",
       "    </tr>\n",
       "    <tr>\n",
       "      <th>12</th>\n",
       "      <td>https://apps.mgov.gov.in</td>\n",
       "      <td>False</td>\n",
       "    </tr>\n",
       "    <tr>\n",
       "      <th>13</th>\n",
       "      <td>https://pgportal.gov.in</td>\n",
       "      <td>False</td>\n",
       "    </tr>\n",
       "    <tr>\n",
       "      <th>14</th>\n",
       "      <td>https://www.xn--i1bj3fqcyde.xn--11b7cb3a6a.xn-...</td>\n",
       "      <td>False</td>\n",
       "    </tr>\n",
       "    <tr>\n",
       "      <th>15</th>\n",
       "      <td>https://twitter.com</td>\n",
       "      <td>False</td>\n",
       "    </tr>\n",
       "    <tr>\n",
       "      <th>16</th>\n",
       "      <td>https://data.gov.in</td>\n",
       "      <td>False</td>\n",
       "    </tr>\n",
       "    <tr>\n",
       "      <th>17</th>\n",
       "      <td>https://www.nic.in</td>\n",
       "      <td>False</td>\n",
       "    </tr>\n",
       "    <tr>\n",
       "      <th>18</th>\n",
       "      <td>https://healthid.ndhm.gov.in</td>\n",
       "      <td>False</td>\n",
       "    </tr>\n",
       "    <tr>\n",
       "      <th>19</th>\n",
       "      <td>https://goidirectory.gov.in</td>\n",
       "      <td>False</td>\n",
       "    </tr>\n",
       "    <tr>\n",
       "      <th>20</th>\n",
       "      <td>https://services.india.gov.in</td>\n",
       "      <td>False</td>\n",
       "    </tr>\n",
       "  </tbody>\n",
       "</table>\n",
       "</div>"
      ],
      "text/plain": [
       "                                               domain  values\n",
       "0                            https://www.india.gov.in   False\n",
       "1                            https://knowindia.gov.in   False\n",
       "2                                 https://www.g20.org   False\n",
       "3                              https://webcast.gov.in   False\n",
       "4                                  https://pib.gov.in   False\n",
       "5                            https://www.facebook.com   False\n",
       "6                            https://indiacode.nic.in   False\n",
       "7                                https://www.mygov.in   False\n",
       "8                            https://www.meity.gov.in   False\n",
       "9                                 https://ncrc.gov.in   False\n",
       "10                  https://righttorepairindia.gov.in   False\n",
       "11                                 https://rti.gov.in   False\n",
       "12                           https://apps.mgov.gov.in   False\n",
       "13                            https://pgportal.gov.in   False\n",
       "14  https://www.xn--i1bj3fqcyde.xn--11b7cb3a6a.xn-...   False\n",
       "15                                https://twitter.com   False\n",
       "16                                https://data.gov.in   False\n",
       "17                                 https://www.nic.in   False\n",
       "18                       https://healthid.ndhm.gov.in   False\n",
       "19                        https://goidirectory.gov.in   False\n",
       "20                      https://services.india.gov.in   False"
      ]
     },
     "execution_count": 83,
     "metadata": {},
     "output_type": "execute_result"
    }
   ],
   "source": [
    "domain_df"
   ]
  },
  {
   "cell_type": "code",
   "execution_count": 84,
   "metadata": {},
   "outputs": [],
   "source": [
    "new_data_df = pd.DataFrame({'domain': final_domains, 'values': [False]*len(final_domains)})"
   ]
  },
  {
   "cell_type": "code",
   "execution_count": 102,
   "metadata": {},
   "outputs": [],
   "source": [
    "data=pd.read_csv('/Users/ashujain/Desktop/web_scraper/Bhasha-Model-Comparison/Code_files/web_scraper_text/domain.csv')"
   ]
  },
  {
   "cell_type": "code",
   "execution_count": 103,
   "metadata": {},
   "outputs": [
    {
     "data": {
      "text/html": [
       "<div>\n",
       "<style scoped>\n",
       "    .dataframe tbody tr th:only-of-type {\n",
       "        vertical-align: middle;\n",
       "    }\n",
       "\n",
       "    .dataframe tbody tr th {\n",
       "        vertical-align: top;\n",
       "    }\n",
       "\n",
       "    .dataframe thead th {\n",
       "        text-align: right;\n",
       "    }\n",
       "</style>\n",
       "<table border=\"1\" class=\"dataframe\">\n",
       "  <thead>\n",
       "    <tr style=\"text-align: right;\">\n",
       "      <th></th>\n",
       "      <th>domain</th>\n",
       "      <th>values</th>\n",
       "    </tr>\n",
       "  </thead>\n",
       "  <tbody>\n",
       "    <tr>\n",
       "      <th>0</th>\n",
       "      <td>https://www.india.gov.in</td>\n",
       "      <td>False</td>\n",
       "    </tr>\n",
       "    <tr>\n",
       "      <th>1</th>\n",
       "      <td>https://knowindia.gov.in</td>\n",
       "      <td>False</td>\n",
       "    </tr>\n",
       "    <tr>\n",
       "      <th>2</th>\n",
       "      <td>https://www.g20.org</td>\n",
       "      <td>False</td>\n",
       "    </tr>\n",
       "    <tr>\n",
       "      <th>3</th>\n",
       "      <td>https://webcast.gov.in</td>\n",
       "      <td>False</td>\n",
       "    </tr>\n",
       "    <tr>\n",
       "      <th>4</th>\n",
       "      <td>https://pib.gov.in</td>\n",
       "      <td>False</td>\n",
       "    </tr>\n",
       "    <tr>\n",
       "      <th>5</th>\n",
       "      <td>https://www.facebook.com</td>\n",
       "      <td>False</td>\n",
       "    </tr>\n",
       "    <tr>\n",
       "      <th>6</th>\n",
       "      <td>https://indiacode.nic.in</td>\n",
       "      <td>False</td>\n",
       "    </tr>\n",
       "    <tr>\n",
       "      <th>7</th>\n",
       "      <td>https://www.mygov.in</td>\n",
       "      <td>False</td>\n",
       "    </tr>\n",
       "    <tr>\n",
       "      <th>8</th>\n",
       "      <td>https://www.meity.gov.in</td>\n",
       "      <td>False</td>\n",
       "    </tr>\n",
       "    <tr>\n",
       "      <th>9</th>\n",
       "      <td>https://ncrc.gov.in</td>\n",
       "      <td>False</td>\n",
       "    </tr>\n",
       "    <tr>\n",
       "      <th>10</th>\n",
       "      <td>https://righttorepairindia.gov.in</td>\n",
       "      <td>False</td>\n",
       "    </tr>\n",
       "    <tr>\n",
       "      <th>11</th>\n",
       "      <td>https://rti.gov.in</td>\n",
       "      <td>False</td>\n",
       "    </tr>\n",
       "    <tr>\n",
       "      <th>12</th>\n",
       "      <td>https://apps.mgov.gov.in</td>\n",
       "      <td>False</td>\n",
       "    </tr>\n",
       "    <tr>\n",
       "      <th>13</th>\n",
       "      <td>https://pgportal.gov.in</td>\n",
       "      <td>False</td>\n",
       "    </tr>\n",
       "    <tr>\n",
       "      <th>14</th>\n",
       "      <td>https://www.xn--i1bj3fqcyde.xn--11b7cb3a6a.xn-...</td>\n",
       "      <td>False</td>\n",
       "    </tr>\n",
       "    <tr>\n",
       "      <th>15</th>\n",
       "      <td>https://twitter.com</td>\n",
       "      <td>False</td>\n",
       "    </tr>\n",
       "    <tr>\n",
       "      <th>16</th>\n",
       "      <td>https://data.gov.in</td>\n",
       "      <td>False</td>\n",
       "    </tr>\n",
       "    <tr>\n",
       "      <th>17</th>\n",
       "      <td>https://www.nic.in</td>\n",
       "      <td>False</td>\n",
       "    </tr>\n",
       "    <tr>\n",
       "      <th>18</th>\n",
       "      <td>https://healthid.ndhm.gov.in</td>\n",
       "      <td>False</td>\n",
       "    </tr>\n",
       "    <tr>\n",
       "      <th>19</th>\n",
       "      <td>https://goidirectory.gov.in</td>\n",
       "      <td>False</td>\n",
       "    </tr>\n",
       "    <tr>\n",
       "      <th>20</th>\n",
       "      <td>https://services.india.gov.in</td>\n",
       "      <td>False</td>\n",
       "    </tr>\n",
       "  </tbody>\n",
       "</table>\n",
       "</div>"
      ],
      "text/plain": [
       "                                               domain  values\n",
       "0                            https://www.india.gov.in   False\n",
       "1                            https://knowindia.gov.in   False\n",
       "2                                 https://www.g20.org   False\n",
       "3                              https://webcast.gov.in   False\n",
       "4                                  https://pib.gov.in   False\n",
       "5                            https://www.facebook.com   False\n",
       "6                            https://indiacode.nic.in   False\n",
       "7                                https://www.mygov.in   False\n",
       "8                            https://www.meity.gov.in   False\n",
       "9                                 https://ncrc.gov.in   False\n",
       "10                  https://righttorepairindia.gov.in   False\n",
       "11                                 https://rti.gov.in   False\n",
       "12                           https://apps.mgov.gov.in   False\n",
       "13                            https://pgportal.gov.in   False\n",
       "14  https://www.xn--i1bj3fqcyde.xn--11b7cb3a6a.xn-...   False\n",
       "15                                https://twitter.com   False\n",
       "16                                https://data.gov.in   False\n",
       "17                                 https://www.nic.in   False\n",
       "18                       https://healthid.ndhm.gov.in   False\n",
       "19                        https://goidirectory.gov.in   False\n",
       "20                      https://services.india.gov.in   False"
      ]
     },
     "execution_count": 103,
     "metadata": {},
     "output_type": "execute_result"
    }
   ],
   "source": [
    "data"
   ]
  },
  {
   "cell_type": "code",
   "execution_count": 105,
   "metadata": {},
   "outputs": [
    {
     "data": {
      "text/plain": [
       "ParseResult(scheme='https', netloc='www.india.gov.in', path='/calendar', params='', query='a=1694503610021', fragment='')"
      ]
     },
     "execution_count": 105,
     "metadata": {},
     "output_type": "execute_result"
    }
   ],
   "source": [
    "from urllib.parse import urlparse, urlsplit\n",
    "url=['https://www.india.gov.in/news_lists?a207257502',\n",
    "'https://www.india.gov.in/calendar?a=1694503610021',\n",
    "'https://www.india.gov.in/calendar?a=1694503927010',\n",
    "'https://www.india.gov.in/news_lists?a760002540']\n",
    "urlparse(url[1])"
   ]
  },
  {
   "cell_type": "code",
   "execution_count": null,
   "metadata": {},
   "outputs": [],
   "source": [
    "def main_part_of_url(url):\n",
    "    parsed_url = urlparse(url)\n",
    "    return parsed_url.scheme + \"://\" + parsed_url.netloc + parsed_url.path"
   ]
  },
  {
   "cell_type": "code",
   "execution_count": null,
   "metadata": {},
   "outputs": [],
   "source": [
    "def url_parse(url):\n",
    "    parsed_url = urlparse(url)\n",
    "    domain = urlsplit(url).netloc\n",
    "    schema=parsed_url.scheme\n",
    "    return schema+'://'+domain"
   ]
  }
 ],
 "metadata": {
  "kernelspec": {
   "display_name": "culinda",
   "language": "python",
   "name": "python3"
  },
  "language_info": {
   "codemirror_mode": {
    "name": "ipython",
    "version": 3
   },
   "file_extension": ".py",
   "mimetype": "text/x-python",
   "name": "python",
   "nbconvert_exporter": "python",
   "pygments_lexer": "ipython3",
   "version": "3.10.12"
  },
  "orig_nbformat": 4
 },
 "nbformat": 4,
 "nbformat_minor": 2
}
